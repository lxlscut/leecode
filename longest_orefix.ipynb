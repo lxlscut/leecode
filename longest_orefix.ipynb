{
 "cells": [
  {
   "cell_type": "code",
   "execution_count": 1,
   "metadata": {
    "collapsed": true,
    "pycharm": {
     "is_executing": false
    }
   },
   "outputs": [
    {
     "name": "stdout",
     "text": [
      "a\n"
     ],
     "output_type": "stream"
    }
   ],
   "source": [
    "def solution(strs):\n",
    "    if not strs:\n",
    "        return\n",
    "    result = \"\"\n",
    "    \n",
    "    for a in range(len(strs[0])):\n",
    "        try:\n",
    "            b = set(string[a] for string in strs)\n",
    "            if len(b) == 1:\n",
    "                result = result + b.pop()\n",
    "        except Exception as e:\n",
    "            break\n",
    "    return result\n",
    "\n",
    "a = solution([\"aaa\",\"abc\"])\n",
    "print(a)\n",
    "\n"
   ]
  },
  {
   "cell_type": "code",
   "execution_count": 4,
   "outputs": [
    {
     "name": "stdout",
     "text": [
      "[1]\n[1, 2]\n[1, 2, 1]\nTrue\n"
     ],
     "output_type": "stream"
    }
   ],
   "source": [
    "def reverse(x):\n",
    "    if x < 0:\n",
    "        return False\n",
    "    result = []\n",
    "    while x != 0:\n",
    "        result.append(x % 10)\n",
    "        x = int(x / 10)\n",
    "        print(result)\n",
    "    length = len(result)\n",
    "    for i in range(length//2+1):\n",
    "        if result[i] != result[length-1-i]:\n",
    "            return False\n",
    "    return True\n",
    "a = reverse(121)\n",
    "print(a)"
   ],
   "metadata": {
    "collapsed": false,
    "pycharm": {
     "name": "#%%\n",
     "is_executing": false
    }
   }
  },
  {
   "cell_type": "code",
   "execution_count": 11,
   "outputs": [
    {
     "name": "stdout",
     "text": [
      "121\n0\nFalse\n"
     ],
     "output_type": "stream"
    }
   ],
   "source": [
    "def rever(x):\n",
    "    if x < 0:\n",
    "        return False\n",
    "    num = 0\n",
    "    while x != 0:\n",
    "        num = num*10+x % 10\n",
    "        x = int(x/10)\n",
    "    print(num)\n",
    "    print(x)\n",
    "    if num == x:\n",
    "        return True\n",
    "    else:\n",
    "        return False\n",
    "\n",
    "print(rever(121))\n",
    "\n"
   ],
   "metadata": {
    "collapsed": false,
    "pycharm": {
     "name": "#%%\n",
     "is_executing": false
    }
   }
  },
  {
   "cell_type": "code",
   "execution_count": 5,
   "outputs": [
    {
     "name": "stdout",
     "text": [
      "True\n"
     ],
     "output_type": "stream"
    }
   ],
   "source": [
    "def isvalid(s):\n",
    "    data = []\n",
    "    match = {\"{\":\"}\",\"[\":\"]\",\"(\":\")\"}\n",
    "    for element in s:\n",
    "        if element in match:\n",
    "            data.append(element)\n",
    "        elif len(data)==0 or element!=match[data.pop()]:\n",
    "            return False\n",
    "    return len(data)==0\n",
    "\n",
    "print(isvalid(\"()\"))\n"
   ],
   "metadata": {
    "collapsed": false,
    "pycharm": {
     "name": "#%%\n",
     "is_executing": false
    }
   }
  },
  {
   "cell_type": "code",
   "execution_count": 12,
   "outputs": [
    {
     "name": "stdout",
     "text": [
      "<class 'list'>\n[1, 3, 2]\n[1, 3, 4]\n[1, 2, 3]\n[1, 3, 4]\n[1, 1, 2, 3, 3, 4]\n"
     ],
     "output_type": "stream"
    }
   ],
   "source": [
    "def mergeTwoLists(l1,l2):\n",
    "    curr = dummy = ListNode(0)\n",
    "    while l1 and l2:\n",
    "        if l1.val() > l2.val():\n",
    "            curr.next() = l2.val()\n",
    "    pass\n",
    "\n",
    "l1 = list([1,3,2])\n",
    "l2 = list([1,3,4])\n",
    "print(type(l1))\n",
    "print(l1)\n",
    "print(l2)\n",
    "mergeTwoLists(l1,l2)\n",
    "\n",
    "\n"
   ],
   "metadata": {
    "collapsed": false,
    "pycharm": {
     "name": "#%%\n",
     "is_executing": false
    }
   }
  },
  {
   "cell_type": "code",
   "execution_count": null,
   "outputs": [],
   "source": [
    "\n"
   ],
   "metadata": {
    "collapsed": false,
    "pycharm": {
     "name": "#%%\n"
    }
   }
  }
 ],
 "metadata": {
  "language_info": {
   "codemirror_mode": {
    "name": "ipython",
    "version": 2
   },
   "file_extension": ".py",
   "mimetype": "text/x-python",
   "name": "python",
   "nbconvert_exporter": "python",
   "pygments_lexer": "ipython2",
   "version": "2.7.6"
  },
  "kernelspec": {
   "name": "python3",
   "language": "python",
   "display_name": "Python 3"
  },
  "pycharm": {
   "stem_cell": {
    "cell_type": "raw",
    "source": [],
    "metadata": {
     "collapsed": false
    }
   }
  }
 },
 "nbformat": 4,
 "nbformat_minor": 0
}