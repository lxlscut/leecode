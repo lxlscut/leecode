{
 "cells": [
  {
   "cell_type": "code",
   "execution_count": 8,
   "metadata": {
    "collapsed": true,
    "pycharm": {
     "is_executing": false
    }
   },
   "outputs": [
    {
     "name": "stdout",
     "text": [
      "['((()))', '(()())', '(())()', '()(())', '()()()']\n"
     ],
     "output_type": "stream"
    }
   ],
   "source": [
    "def generate(l,r,item,result):\n",
    "    if l > r :\n",
    "        return \n",
    "    if l == 0 and r == 0:\n",
    "        result.append(item)\n",
    "    if l>0 :\n",
    "        generate(l-1,r,item+\"(\",result)\n",
    "    if r>0:\n",
    "        generate(l,r-1,item+\")\",result)\n",
    "    \n",
    "result = []\n",
    "generate(3,3,\"\",result)\n",
    "print(result)"
   ]
  },
  {
   "cell_type": "code",
   "execution_count": null,
   "outputs": [],
   "source": [
    "\n"
   ],
   "metadata": {
    "collapsed": false,
    "pycharm": {
     "name": "#%%\n"
    }
   }
  }
 ],
 "metadata": {
  "language_info": {
   "codemirror_mode": {
    "name": "ipython",
    "version": 2
   },
   "file_extension": ".py",
   "mimetype": "text/x-python",
   "name": "python",
   "nbconvert_exporter": "python",
   "pygments_lexer": "ipython2",
   "version": "2.7.6"
  },
  "kernelspec": {
   "name": "python3",
   "language": "python",
   "display_name": "Python 3"
  },
  "pycharm": {
   "stem_cell": {
    "cell_type": "raw",
    "source": [],
    "metadata": {
     "collapsed": false
    }
   }
  }
 },
 "nbformat": 4,
 "nbformat_minor": 0
}