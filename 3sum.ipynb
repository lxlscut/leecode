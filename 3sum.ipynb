{
 "cells": [
  {
   "cell_type": "code",
   "execution_count": 18,
   "metadata": {
    "collapsed": true,
    "pycharm": {
     "is_executing": false
    }
   },
   "outputs": [
    {
     "name": "stdout",
     "text": [
      "[-4, -1, -1, 0, 1, 2]\nbreak two\nhahhahhhhahhhhah\nhahhahhhhahhhhah\n[[-1, -1, 2], [-1, 0, 1]]\n"
     ],
     "output_type": "stream"
    }
   ],
   "source": [
    "def solution(array):\n",
    "    n = len(array)\n",
    "    array = sorted(array)\n",
    "    print(array)\n",
    "    result = []\n",
    "    for i in range(n-2):\n",
    "        # it means that no combination could smaller than zero\n",
    "        if array[i] + array[i+1] +array[i+2] > 0:\n",
    "            print(\"break one\")\n",
    "            break\n",
    "        # it means that no combination could larger than zero \n",
    "        if array[i] + array[n-2] + array[n-1] <0 :\n",
    "            print(\"break two\")\n",
    "            continue\n",
    "        #     因为在第一次遍历时已经 从 i->i+1 过一遍。\n",
    "        elif i>0 and array[i] == array[i-1]:\n",
    "            continue\n",
    "        l,r = i+1,n-1\n",
    "        while l<r:\n",
    "            tmp = array[i] + array[l] + array[r]\n",
    "            if tmp == 0:\n",
    "                print(\"hahhahhhhahhhhah\")\n",
    "                result.append([array[i],array[l],array[r]])\n",
    "                if l+1 < r and array[l] == array[l+1]:\n",
    "                    l+=1\n",
    "                l+=1\n",
    "                if l < r-1 and array[r] == array[r-1]:\n",
    "                    r-=1\n",
    "                r-=1\n",
    "            if tmp > 0:\n",
    "                r -= 1\n",
    "            elif tmp <0:\n",
    "                l += 1\n",
    "            \n",
    "        return result\n",
    "\n",
    "\n",
    "a = [-1, 0, 1, 2, -1, -4]\n",
    "b = solution(a)\n",
    "print(b)\n"
   ]
  },
  {
   "cell_type": "code",
   "execution_count": null,
   "outputs": [],
   "source": [
    "\n"
   ],
   "metadata": {
    "collapsed": false,
    "pycharm": {
     "name": "#%%\n"
    }
   }
  }
 ],
 "metadata": {
  "language_info": {
   "codemirror_mode": {
    "name": "ipython",
    "version": 2
   },
   "file_extension": ".py",
   "mimetype": "text/x-python",
   "name": "python",
   "nbconvert_exporter": "python",
   "pygments_lexer": "ipython2",
   "version": "2.7.6"
  },
  "kernelspec": {
   "name": "python3",
   "language": "python",
   "display_name": "Python 3"
  },
  "pycharm": {
   "stem_cell": {
    "cell_type": "raw",
    "source": [],
    "metadata": {
     "collapsed": false
    }
   }
  }
 },
 "nbformat": 4,
 "nbformat_minor": 0
}